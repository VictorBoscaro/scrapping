{
 "cells": [
  {
   "cell_type": "code",
   "execution_count": 1,
   "id": "966fd83b",
   "metadata": {},
   "outputs": [],
   "source": [
    "from selenium import webdriver\n",
    "from selenium.webdriver.common.keys import Keys\n",
    "from selenium.webdriver.common.by import By\n",
    "from selenium.webdriver.support.ui import WebDriverWait\n",
    "from selenium.webdriver.support import expected_conditions as EC\n",
    "import time\n",
    "from collections import defaultdict\n",
    "\n",
    "import requests\n",
    "from itertools import repeat\n",
    "import pandas as pd\n",
    "import os"
   ]
  },
  {
   "cell_type": "code",
   "execution_count": 5,
   "id": "10e35916",
   "metadata": {},
   "outputs": [],
   "source": [
    "options = webdriver.ChromeOptions()\n",
    "\n",
    "prefs = {'profile.default_content_setting_values.geolocation' :2,\n",
    "         'profile.managed_default_content_settings.images':2,\n",
    "         'disk-cache-size': 4096}\n",
    "\n",
    "options.add_experimental_option(\"prefs\",prefs)\n",
    "path = r'C:\\Users\\VictorBoscaro\\Desktop\\Estudos\\Digital House\\chrome\\chromedriver.exe'"
   ]
  },
  {
   "cell_type": "code",
   "execution_count": 6,
   "id": "1590cdef",
   "metadata": {},
   "outputs": [],
   "source": [
    "wd = webdriver.Chrome(options=options, executable_path=path)"
   ]
  },
  {
   "cell_type": "code",
   "execution_count": 7,
   "id": "3fc604b8",
   "metadata": {},
   "outputs": [],
   "source": [
    "wd.get('https://accounts.spotify.com/pt-BR/login/?continue=https:%2F%2Fopen.spotify.com%2F%3Fl2l%3D1&_ga=2.206351955.1140373488.1624897315-1895611370.1624897314')"
   ]
  },
  {
   "cell_type": "code",
   "execution_count": 10,
   "id": "69ce5605",
   "metadata": {},
   "outputs": [],
   "source": [
    "div_mor = wd.find_element_by_xpath('//div[@style=\"transform: translateY(0px);\"]')"
   ]
  },
  {
   "cell_type": "code",
   "execution_count": null,
   "id": "2951d712",
   "metadata": {},
   "outputs": [],
   "source": [
    "cols = ['song_name', ]"
   ]
  },
  {
   "cell_type": "code",
   "execution_count": 42,
   "id": "6814b15d",
   "metadata": {},
   "outputs": [],
   "source": [
    "song_name = div_mor.find_elements_by_xpath('//div[@data-testid=\"tracklist-row\"]/div[2]/div/div[1]')\n",
    "songs = [song.text for song in song_name]"
   ]
  },
  {
   "cell_type": "code",
   "execution_count": 40,
   "id": "3e44cb0c",
   "metadata": {},
   "outputs": [],
   "source": [
    "artists = div_mor.find_elements_by_xpath('//div[@data-testid=\"tracklist-row\"]/div[2]/div/span')\n",
    "artist_name = [artist.text for artist in artists]"
   ]
  },
  {
   "cell_type": "code",
   "execution_count": 77,
   "id": "38070dbb",
   "metadata": {},
   "outputs": [],
   "source": [
    "wd.find_element_by_tag_name('body').send_keys(Keys.END)"
   ]
  },
  {
   "cell_type": "code",
   "execution_count": 74,
   "id": "3662d95f",
   "metadata": {},
   "outputs": [
    {
     "ename": "AttributeError",
     "evalue": "'WebDriver' object has no attribute 'send_keys'",
     "output_type": "error",
     "traceback": [
      "\u001b[1;31m---------------------------------------------------------------------------\u001b[0m",
      "\u001b[1;31mAttributeError\u001b[0m                            Traceback (most recent call last)",
      "\u001b[1;32m<ipython-input-74-e166427aaee0>\u001b[0m in \u001b[0;36m<module>\u001b[1;34m\u001b[0m\n\u001b[1;32m----> 1\u001b[1;33m \u001b[0mwd\u001b[0m\u001b[1;33m.\u001b[0m\u001b[0msend_keys\u001b[0m\u001b[1;33m(\u001b[0m\u001b[0mKeys\u001b[0m\u001b[1;33m.\u001b[0m\u001b[0mDOWN\u001b[0m\u001b[1;33m)\u001b[0m\u001b[1;33m\u001b[0m\u001b[1;33m\u001b[0m\u001b[0m\n\u001b[0m",
      "\u001b[1;31mAttributeError\u001b[0m: 'WebDriver' object has no attribute 'send_keys'"
     ]
    }
   ],
   "source": [
    "wd.send_keys(Keys.DOWN)"
   ]
  }
 ],
 "metadata": {
  "kernelspec": {
   "display_name": "Python 3",
   "language": "python",
   "name": "python3"
  },
  "language_info": {
   "codemirror_mode": {
    "name": "ipython",
    "version": 3
   },
   "file_extension": ".py",
   "mimetype": "text/x-python",
   "name": "python",
   "nbconvert_exporter": "python",
   "pygments_lexer": "ipython3",
   "version": "3.9.5"
  },
  "toc": {
   "base_numbering": 1,
   "nav_menu": {},
   "number_sections": true,
   "sideBar": true,
   "skip_h1_title": false,
   "title_cell": "Table of Contents",
   "title_sidebar": "Contents",
   "toc_cell": false,
   "toc_position": {},
   "toc_section_display": true,
   "toc_window_display": false
  },
  "varInspector": {
   "cols": {
    "lenName": 16,
    "lenType": 16,
    "lenVar": 40
   },
   "kernels_config": {
    "python": {
     "delete_cmd_postfix": "",
     "delete_cmd_prefix": "del ",
     "library": "var_list.py",
     "varRefreshCmd": "print(var_dic_list())"
    },
    "r": {
     "delete_cmd_postfix": ") ",
     "delete_cmd_prefix": "rm(",
     "library": "var_list.r",
     "varRefreshCmd": "cat(var_dic_list()) "
    }
   },
   "types_to_exclude": [
    "module",
    "function",
    "builtin_function_or_method",
    "instance",
    "_Feature"
   ],
   "window_display": false
  }
 },
 "nbformat": 4,
 "nbformat_minor": 5
}
